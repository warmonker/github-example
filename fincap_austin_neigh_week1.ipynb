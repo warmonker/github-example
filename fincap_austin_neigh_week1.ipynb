{
 "cells": [
  {
   "cell_type": "markdown",
   "metadata": {},
   "source": [
    "## THE BATTLE OF THE NEIGHBORHOODS\n",
    "\n",
    "### Applied Data Science Capstone by IBM/Coursera"
   ]
  },
  {
   "cell_type": "markdown",
   "metadata": {},
   "source": [
    "\n"
   ]
  },
  {
   "cell_type": "markdown",
   "metadata": {},
   "source": [
    "##### Description and Background\n",
    "\n",
    "In this project, we'll expolore a Korean fried chicken and bar business opportunity around Austin, Texas neighborhoods. Fried chicken and bar has a very wide appeal in Korea, amongst all age groups but is particularly popular amongst the young college students. Korean fried chicken and bar restaurants is also very popular in places like Los Angeles and San Jose where there are large Korean communities.  \n",
    "\n",
    "We'll explore many of the Austin downtown surrounding neighborhoods for the location of the business. Contrary to finding a location away from other food establishments, we'll look to setup the business in a neighborhood where there is a concentration of restaurants. \n",
    "\n",
    "* Opportunity:      \n",
    "Korean Fried Chicken and Bar\n",
    "\n",
    "\n",
    "* Location:         \n",
    "A neighborhood near Austin, Texas\n",
    "\n",
    "\n",
    "* Target Audience:  \n",
    "Korean Community but we believe it will have a mass appeal to all age groups and non-Koreans.\n",
    "\n",
    "\n",
    "##### Data Sources to Explore:\n",
    "\n",
    "A list of neighborhoods in Autin, Texas will be obtained from wikipedia and the data will be cleaned up and processed through geocode/Nominatim to extract latitudes and longitudes of each neighborhood.\n",
    "\n",
    "Next the data will be processed through the Foursquare API to obtain venues around the neighborhoods. We'll analyze the resulting data to look for the neighborhood with the highest concentration of fast food/fried chicken/bar businesses as the location choice.\n",
    "\n",
    "We'll also obtain and analyze data on population size, growth and demographics in Austin for additional support of the business opportunity.  \n",
    "\n",
    "Data Sources:\n",
    "1. Data from wikipedia / Neighborhoods around Austin Texas:\n",
    "\n",
    "https://en.wikipedia.org/wiki/List_of_Austin_neighborhoods\n",
    "\n",
    "2. World Population Review: \n",
    "\n",
    "http://worldpopulationreview.com/us-cities/austin-population/\n",
    "\n",
    "3. Austin Asian Chamber of Commerce \n",
    "\n",
    "http://www.austinasianchamber.org/asian-data\n",
    "\n"
   ]
  },
  {
   "cell_type": "code",
   "execution_count": null,
   "metadata": {},
   "outputs": [],
   "source": []
  }
 ],
 "metadata": {
  "kernelspec": {
   "display_name": "Python 3",
   "language": "python",
   "name": "python3"
  },
  "language_info": {
   "codemirror_mode": {
    "name": "ipython",
    "version": 3
   },
   "file_extension": ".py",
   "mimetype": "text/x-python",
   "name": "python",
   "nbconvert_exporter": "python",
   "pygments_lexer": "ipython3",
   "version": "3.6.5"
  }
 },
 "nbformat": 4,
 "nbformat_minor": 2
}
